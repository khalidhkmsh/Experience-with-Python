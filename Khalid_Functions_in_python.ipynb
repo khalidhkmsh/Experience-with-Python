{
 "cells": [
  {
   "cell_type": "markdown",
   "metadata": {},
   "source": [
    "**Exercise 1**\n",
    "\n",
    "1. Write a function called <b>showEmployee</b> in such a way that it should accept employee name and its salary and display both. For axemaple, <b>showEmployee(\"John\",100000)</b> must return <b>\"Employee John's salary is 100000\"</b>.\n",
    "if the salary is not given, the function <b>showEmployee</b> must consider 50000 as the salary."
   ]
  },
  {
   "cell_type": "code",
   "execution_count": null,
   "metadata": {},
   "outputs": [],
   "source": [
    "def showEmployee(name,salary = 50000):\n",
    "    return f\"{name}'s salary is {salary}\""
   ]
  },
  {
   "cell_type": "markdown",
   "metadata": {},
   "source": [
    "2. Test the fuction <b>showEmployee</b> by using only your name as string."
   ]
  },
  {
   "cell_type": "code",
   "execution_count": null,
   "metadata": {},
   "outputs": [],
   "source": [
    "print(showEmployee('khalid'))\n",
    "print(showEmployee('khalid', 100000))"
   ]
  },
  {
   "cell_type": "markdown",
   "metadata": {},
   "source": [
    "**Exercise 2**\n",
    "1. Write a Python function called <b>OddNum</b> that  returns the list of odd numbers from a given list."
   ]
  },
  {
   "cell_type": "code",
   "execution_count": null,
   "metadata": {},
   "outputs": [],
   "source": [
    "def OddNum(lst):\n",
    "    odd_list = []\n",
    "    for num in lst:\n",
    "        if num%2!= 0:\n",
    "            odd_list.append(num)\n",
    "    return odd_list"
   ]
  },
  {
   "cell_type": "markdown",
   "metadata": {},
   "source": [
    "2. Test the function <b>OddNum</b> by using the list $[-14, 45.5,27,0,-4,7]$"
   ]
  },
  {
   "cell_type": "code",
   "execution_count": null,
   "metadata": {},
   "outputs": [],
   "source": [
    "lst= [-14, 45.5,27,0,-4,7]\n",
    "print('odd_list =',OddNum(lst))"
   ]
  },
  {
   "cell_type": "markdown",
   "metadata": {},
   "source": [
    "**Exercise 3**\n",
    "\n",
    "Write a function called <b>Root_Power</b> that is given a positive number $x$ and a positive integer $n$ and returns $x^{1/n}$ and $x^n$. In\n",
    "the function definition, set the default value of $n$ to $2$. Test the function <b>Root_Power</b> by inputing only $x=49$"
   ]
  },
  {
   "cell_type": "code",
   "execution_count": null,
   "metadata": {},
   "outputs": [],
   "source": [
    "def Root_Power(x, n = 2):\n",
    "    return x**(1/n),x**n"
   ]
  },
  {
   "cell_type": "code",
   "execution_count": null,
   "metadata": {},
   "outputs": [],
   "source": [
    "print(Root_Power(x = 49, n = 2))"
   ]
  },
  {
   "cell_type": "markdown",
   "metadata": {},
   "source": [
    "**Exercise 4**\n",
    "\n",
    "1 - write a function, called **sum_prod**, that takes $n$ and $m$ as input and return return A and B given by $$A = \\sum_{i=m}^{n} i, \\quad B = \\prod_{i=m}^{n} i $$ The default value of m should be 1. Check your function for $n=10$."
   ]
  },
  {
   "cell_type": "code",
   "execution_count": null,
   "metadata": {},
   "outputs": [],
   "source": [
    "def sum_prod(n,m = 1):\n",
    "    A = 0\n",
    "    B = 1\n",
    "    for i in range(m, n):\n",
    "        A +=i\n",
    "        B*= i\n",
    "    return A,B\n",
    "sum_prod(n =10 ,m = 1)"
   ]
  },
  {
   "cell_type": "markdown",
   "metadata": {},
   "source": [
    "2- Write a Python function called **Facto** that calculates the factorial of a non-negative integer. The function accepts the number as an argument. \n",
    "\n",
    "`For example ` 5! = 5x4x3x2x1 = 120\n",
    "\n",
    "Compute the factorial of 57."
   ]
  },
  {
   "cell_type": "code",
   "execution_count": null,
   "metadata": {},
   "outputs": [],
   "source": [
    "def Facto(num):\n",
    "    factorial= 1\n",
    "    if num < 0:\n",
    "        return 'no factorial of negative'\n",
    "    elif num <=1:\n",
    "        return factorial\n",
    "    else:\n",
    "        for i in range (1, num+1):\n",
    "            factorial *=i\n",
    "        return factorial\n",
    "    \n",
    "    \n",
    "Facto(num =57)"
   ]
  },
  {
   "cell_type": "markdown",
   "metadata": {},
   "source": [
    "**Exercise 5**\n",
    "\n",
    "Write a function **V** that takes a positive integer $n$ and a prime number $p$ and returns the greatest integer $r$ such that $p^r$ divides $n$. Check the function n=40 and p = 2."
   ]
  },
  {
   "cell_type": "code",
   "execution_count": 37,
   "metadata": {},
   "outputs": [
    {
     "data": {
      "text/plain": [
       "3"
      ]
     },
     "execution_count": 37,
     "metadata": {},
     "output_type": "execute_result"
    }
   ],
   "source": [
    "def V(n, p):\n",
    "    r=1\n",
    "    while n%(p**r)==0:\n",
    "        r+=1\n",
    "    return r-1\n",
    "V(n=40, p=2)"
   ]
  },
  {
   "cell_type": "markdown",
   "metadata": {},
   "source": [
    "**Exercise 6**\n",
    "\n",
    "1 - Write a Python function called <b>IsPrime</b> that takes a positive integer, $n$, as input and returns the boolean True if $n$ is a prime number and False, otherwise. \n",
    "\n",
    "Note : A prime number (or a prime) is a natural number greater than 1 and that has no positive divisors other than 1 and itself."
   ]
  },
  {
   "cell_type": "code",
   "execution_count": null,
   "metadata": {},
   "outputs": [],
   "source": [
    "def IsPrime(n):\n",
    "    if n<=1:\n",
    "        return 'Error: Enter positive number'\n",
    "    else:\n",
    "        div = 2\n",
    "        for i in range(2,n//2):\n",
    "            if n%i==0:\n",
    "                div+=1\n",
    "        return (div == 2)"
   ]
  },
  {
   "cell_type": "markdown",
   "metadata": {},
   "source": [
    "2- Test the function <b>IsPrime</b> for $n= 12, 47$ and $97$"
   ]
  },
  {
   "cell_type": "code",
   "execution_count": null,
   "metadata": {},
   "outputs": [],
   "source": [
    "print(12,IsPrime(12))\n",
    "print(47,IsPrime(47))\n",
    "print(97,IsPrime(97))"
   ]
  },
  {
   "cell_type": "markdown",
   "metadata": {},
   "source": [
    "**Exercise 7**\n",
    "\n",
    "1. Write a function called <b>SolveQuadratic</b> that takes three `real` numbers $a\\neq 0$, $b$, $c$ and  returns the list of the solutions in <b>R</b> of the quadratic equation $ax^2 + bx + c = 0.$ \n",
    "\n",
    "**NB** it should be able to return out put basing on nature of roots click to see\n",
    "<a href=\"https://flexbooks.ck12.org/cbook/ck-12-cbse-math-class-10/section/4.6/primary/lesson/discriminant-and-nature-of-roots/\">Discriminant of Quadratic</a>"
   ]
  },
  {
   "cell_type": "code",
   "execution_count": null,
   "metadata": {},
   "outputs": [],
   "source": [
    "def SolveQuadratic(a, b, c):\n",
    "    D = b**2- 4*a*c\n",
    "    if D < 0:\n",
    "        return 'No Real solution'\n",
    "    elif D == 0:\n",
    "        return -b/(2*a)\n",
    "    else:\n",
    "        x_1 = (-b + D**(1/2))/2*a\n",
    "        x_2 = (-b - D**(1/2))/2*a\n",
    "        return x_1, x_2"
   ]
  },
  {
   "cell_type": "markdown",
   "metadata": {},
   "source": [
    "2. Test your function here for;\n",
    "\n",
    "     a)   $4x^2 -1 = 0$\n",
    "\n",
    "     b)   $10x^2 -3x + 4 = 0$\n",
    "\n",
    "     c)   $x^2 -10x + 25 = 0$\n"
   ]
  },
  {
   "cell_type": "code",
   "execution_count": null,
   "metadata": {},
   "outputs": [],
   "source": [
    "print(SolveQuadratic(a = 4, b = 0, c= -1))\n",
    "print(SolveQuadratic(a = 10, b = -3, c= 4))\n",
    "print(SolveQuadratic(a = 1, b= -10, c= 15))"
   ]
  },
  {
   "cell_type": "markdown",
   "metadata": {},
   "source": [
    "### From this Point you need to import necessary libraries"
   ]
  },
  {
   "cell_type": "code",
   "execution_count": 1,
   "metadata": {},
   "outputs": [],
   "source": [
    "#import your libaries here\n",
    "import numpy as np\n",
    "import matplotlib.pyplot as plt"
   ]
  },
  {
   "cell_type": "markdown",
   "metadata": {},
   "source": [
    "**Exercise 8** \n",
    "\n",
    "For any two vectors **a** = $(a_1, a_2,\\cdots a_n)$ and **b**=$(b_1, b_2,\\cdots b_n)$, their `Dot Product` is \n",
    "$$a\\cdot b = a_1b_1+a_2b_2+\\cdots a_nb_n$$\n",
    "\n",
    "write a function that takes two vectors **a** and **b** and returns thier Dot Product\n",
    "\n",
    "Test your function on \n",
    "\n",
    "   a) $\\quad $**a**=(1,2,3) and **b**=(4,−5,6)\n",
    "   \n",
    "   b)$\\quad $**u**=(1,-2,3,4,5) and **v**=(0,2,4,−5,6)"
   ]
  },
  {
   "cell_type": "code",
   "execution_count": null,
   "metadata": {},
   "outputs": [],
   "source": [
    "def DotPdt(a, b):\n",
    "    if len(a)!= len(b):\n",
    "        return 'vectors must have same size'\n",
    "    else:\n",
    "        ab = 0\n",
    "        for i in range(len(a)):\n",
    "            ab+= a[i]*b[i]\n",
    "        return ab\n",
    "    \n",
    "##Test function \n",
    "a= np.array([1,2,3])\n",
    "b= np.array([4,-5,6])\n",
    "DotPdt(a, b)"
   ]
  },
  {
   "cell_type": "markdown",
   "metadata": {},
   "source": [
    "**Exercise 9** \n",
    "\n",
    "Norm /magnitude of a vector  **x** = $(x_1, x_2,\\cdots x_n)$ is given by the formula\n",
    "$$\\|{\\boldsymbol {x}}\\|={\\sqrt {x_{1}^{2}+\\cdots +x_{n}^{2}}}.$$\n",
    "\n",
    "for any vector **x** write a function **NORM** that takes a vector and returns its magnitude\n",
    "\n",
    "Test your function on \n",
    "\n",
    "   a) $\\quad $**a**=(1,2,3) \n",
    "   \n",
    "   b)$\\quad $**u**=(1,-2,3,4,5)"
   ]
  },
  {
   "cell_type": "code",
   "execution_count": null,
   "metadata": {},
   "outputs": [],
   "source": [
    "def  NORM(a):\n",
    "    x = 0\n",
    "    for i in range(len(a)):\n",
    "        x+= a[i]**2\n",
    "    return x**(1/2)\n",
    "\n",
    "##Or \n",
    "# def  NORM(a):\n",
    "#     return DotPdt(a=a, b=a)**(1/2)\n",
    "\n",
    "a= np.array([1,2,3])\n",
    "NORM(a)"
   ]
  },
  {
   "cell_type": "markdown",
   "metadata": {},
   "source": [
    "**Exercise 10** \n",
    "\n",
    "The cosine of the angle between two vectors is given by \n",
    "\n",
    "$$\\cos \\theta =\\frac{ (\\mathbf {a} \\cdot \\mathbf {b} )}{\\left\\|\\mathbf {a} \\right\\|\\,\\left\\|\\mathbf {b} \\right\\|}$$.\n",
    "\n",
    "write a fuction **CosTheta** that  takes any two vectors and return the cosine of angle between them.\n",
    "\n",
    "NB:`you may need to use the previous functions`\n",
    "\n",
    "\n",
    "Test your functons using own examples"
   ]
  },
  {
   "cell_type": "code",
   "execution_count": null,
   "metadata": {},
   "outputs": [],
   "source": [
    "def CosTheta(a, b):\n",
    "    return DotPdt(a,b)/(NORM(a)*NORM(b))\n",
    "\n",
    "\n",
    "a= np.array([1,2,3])\n",
    "b= np.array([4,-5,6])\n",
    "CosTheta(a, b)"
   ]
  },
  {
   "cell_type": "markdown",
   "metadata": {},
   "source": [
    "**Exercise BONUS Enegizer 1a**\n",
    "\n",
    "plot the following functons \n",
    "\n",
    "$$ f(x)=5xe^{-2x}$$\n",
    "\n",
    "\n",
    "for $ 0.1\\leq x\\leq 1.3 $ such that the step size is given by $h=\\frac{b-a}{N}$ for $N=5, 50, 100 $"
   ]
  },
  {
   "cell_type": "code",
   "execution_count": 18,
   "metadata": {},
   "outputs": [],
   "source": [
    "f = lambda x: 5*x*np.exp(-2*x)\n",
    "a = 0.1\n",
    "b = 1.3\n",
    "def Plot_fun(a,b,N):\n",
    "    h = (b -a)/N\n",
    "    x = np.arange(a,b+h, h)\n",
    "    f_x1 = f(x)\n",
    "    print (x)\n",
    "    print (f_x1)\n",
    "    plt.plot(x, f_x1)\n",
    "    plt.xlabel('x')\n",
    "    plt.xlabel('f(x)')\n",
    "    plt.title('Plot of f(x) for N ='+str(N))\n",
    "    plt.show()\n"
   ]
  },
  {
   "cell_type": "code",
   "execution_count": 19,
   "metadata": {},
   "outputs": [
    {
     "name": "stdout",
     "output_type": "stream",
     "text": [
      "[0.1  0.34 0.58 0.82 1.06 1.3 ]\n",
      "[0.40936538 0.86124889 0.90910992 0.79531817 0.63616763 0.48277826]\n"
     ]
    },
    {
     "data": {
      "image/png": "[encoded data removed]",
      "text/plain": [
       "<Figure size 640x480 with 1 Axes>"
      ]
     },
     "metadata": {},
     "output_type": "display_data"
    }
   ],
   "source": [
    "N=5 ##plot here\n",
    "Plot_fun(a,b,N)"
   ]
  },
  {
   "cell_type": "code",
   "execution_count": 14,
   "metadata": {},
   "outputs": [
    {
     "data": {
      "image/png": "[encoded data removed]",
      "text/plain": [
       "<Figure size 640x480 with 1 Axes>"
      ]
     },
     "metadata": {},
     "output_type": "display_data"
    }
   ],
   "source": [
    "N=50 ##plot here\n",
    "Plot_fun(a,b,N)"
   ]
  },
  {
   "cell_type": "code",
   "execution_count": 15,
   "metadata": {},
   "outputs": [
    {
     "data": {
      "image/png": "[encoded data removed]",
      "text/plain": [
       "<Figure size 640x480 with 1 Axes>"
      ]
     },
     "metadata": {},
     "output_type": "display_data"
    }
   ],
   "source": [
    "N= 100 ##plot here\n",
    "Plot_fun(a,b,N)"
   ]
  },
  {
   "cell_type": "markdown",
   "metadata": {},
   "source": [
    "**Exercise BONUS Enegizer 2**\n",
    "\n",
    "\n",
    "**Trapezioidal Rule**  is a technique for approximating the definite integral. The function $f(x)$  is approximated by dividing the total area into smaller trapezoids.\n",
    "\n",
    "We divide the intervals [a, b] into $N$ equal subintervals such that \n",
    "\n",
    "$$ a=x_{0}<x_{1}<\\cdots <x_{N-1}<x_{N}=b$$ and $h$ be the step size/ width\n",
    "\n",
    "$$ h=\\frac{b-a}{N} =x_{k}-x_{k-1}, $$ then\n",
    "Then the Trapezoidal Rule formula for area approximating the definite integral \n",
    "\n",
    "$\\int _{a}^{b}f(x)\\,dx\\approx \\sum _{k=1}^{N}{\\frac {f(x_{k-1})+f(x_{k})}{2}}h.$\n",
    "\n",
    "see <a href=\"https://www.codesansar.com/numerical-methods/integration-trapezoidal-method-algorithm.htm\"> This Algorithm </a>and write function **TRAPrule**  that takes $a,b, N$ and  and a function $f(x)$  and returns its  Approximation.\n",
    "\n",
    "Test your funtion with diffent **N** for the same **f(x)** in **BONUS Enegizer 1a**"
   ]
  },
  {
   "cell_type": "code",
   "execution_count": 26,
   "metadata": {},
   "outputs": [],
   "source": [
    "def TRAPrule(a,b,N):\n",
    "    h = (b -a)/N\n",
    "    x = np.arange(a,b+h, h)\n",
    "    A =0\n",
    "    for k in range(1,N):\n",
    "        A += (f(x[k-1])+f(x[k]))*h/2\n",
    "    return A"
   ]
  },
  {
   "cell_type": "code",
   "execution_count": 32,
   "metadata": {},
   "outputs": [
    {
     "name": "stdout",
     "output_type": "stream",
     "text": [
      "0.7412264373116569\n",
      "0.8819200036123638\n",
      "0.8879822874657348\n",
      "0.8927027898590965\n",
      "0.8938534406174741\n",
      "0.8938649117875836\n"
     ]
    }
   ],
   "source": [
    "a = 0.1\n",
    "b = 1.3\n",
    "N=5\n",
    "print(TRAPrule(a,b,N))\n",
    "N=50\n",
    "print(TRAPrule(a,b,N))\n",
    "N=100\n",
    "print(TRAPrule(a,b,N))\n",
    "N=500\n",
    "print(TRAPrule(a,b,N))\n",
    "N=50000\n",
    "print(TRAPrule(a,b,N))\n",
    "N=5000000\n",
    "print(TRAPrule(a,b,N))\n"
   ]
  },
  {
   "cell_type": "code",
   "execution_count": null,
   "metadata": {},
   "outputs": [],
   "source": []
  }
 ],
 "metadata": {
  "kernelspec": {
   "display_name": "Python 3",
   "language": "python",
   "name": "python3"
  },
  "language_info": {
   "codemirror_mode": {
    "name": "ipython",
    "version": 3
   },
   "file_extension": ".py",
   "mimetype": "text/x-python",
   "name": "python",
   "nbconvert_exporter": "python",
   "pygments_lexer": "ipython3",
   "version": "3.7.6"
  }
 },
 "nbformat": 4,
 "nbformat_minor": 4
}
