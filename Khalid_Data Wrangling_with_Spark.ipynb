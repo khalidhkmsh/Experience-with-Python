{
 "cells": [
  {
   "cell_type": "code",
   "execution_count": 1,
   "metadata": {},
   "outputs": [
    {
     "data": {
      "text/plain": [
       "'/home/khalid/Desktop/BDP2'"
      ]
     },
     "execution_count": 1,
     "metadata": {},
     "output_type": "execute_result"
    }
   ],
   "source": [
    "import os\n",
    "os.getcwd()"
   ]
  },
  {
   "cell_type": "markdown",
   "metadata": {},
   "source": [
    "# $\\color{red}{MARKED}$\n",
    "# Data Wrangling with Spark\n",
    "Welcome to assignment-2-part-2 for the BDA course where you will use spark together with pandas to \n",
    "perfom common data processing tasks which are often part of a larger data science project. Please use the ```simulated_cdrs``` dataset.\n",
    "\n",
    "By the end of the asssignment, you will have accomplished the following:\n",
    "- how to setup a data science project \n",
    "- appreciate effect of your design choices on effiency when dealing with large datasets\n",
    "- appreciate that how you sample data will vary alot depending on the nature of the data\n",
    "- ability to manipulate spark dataframes, use spark user defined functions\n",
    "- ability to switch betweeen spark dataframes which are distributed and pandass dataframes (which arent) as needed\n",
    "\n",
    "\n",
    "For this assignment, please use the [pyspark API documentation](https://spark.apache.org/docs/latest/api/python/reference/pyspark.sql/dataframe.html) to get details about specific functions when you use them."
   ]
  },
  {
   "cell_type": "markdown",
   "metadata": {},
   "source": [
    "## Python setup"
   ]
  },
  {
   "cell_type": "code",
   "execution_count": 1,
   "metadata": {},
   "outputs": [],
   "source": [
    "# import other packages you need for this assignment\n",
    "from datetime import datetime\n",
    "import numpy as np\n",
    "from pathlib import Path\n",
    "import seaborn as sns\n",
    "import pandas as pd\n",
    "import pyspark\n",
    "from pyspark.sql import SparkSession\n",
    "from pyspark.sql.types import *\n",
    "from pyspark.sql.functions import *\n",
    "import seaborn as sn\n",
    "import matplotlib.pyplot as plt\n",
    "import shutil"
   ]
  },
  {
   "cell_type": "markdown",
   "metadata": {},
   "source": [
    "## 1-Sampling data\n",
    "When working with large datasets, you often need to sample the data so that you can \n",
    "build and test your awesome algorithms on a smaller dataset without having to wait 10 minutes or hours depending on what you working with. However, sampling is not as straightfoward as you think, when the data is large and the sampling process complicated, you can even get stuck in the sampling stage. In this exercise, you will explore three strategies to achieve the same goal of sampling data. You will compare the efficiency of the three approaches.\n",
    "\n",
    "### 1-First sampling approach: isin()\n",
    "Given a list of users (their ```user_id```) that we have sampled from somewhere (in this case a pandas dataframe),\n",
    "we can use the function ```isin()``` on the spark dataframe (i.e the large input dataframe) and apply ```isin()``` \n",
    "to keep only the users in the list.\n",
    "### 2-Second sampling approach: join\n",
    "Once we have a list of user_id's whose data we need, we can convert that into a spark dataframe, \n",
    "then join with the input large dataframe. This will give us the required data, assuming we use thee correct join. However, joins can be very slow if you have a lot of data because its a shuffle operation.\n",
    "### 3-Third sampling approach: broadcast join\n",
    "When joining, if you have one smaller dataset and its small enough to fit into the memory of each worker, we can turn ShuffleHashJoin or SortMergeJoin into a BroadcastHashJoin. In broadcast join, the smaller dataFrame will be broadcasted to all worker nodes. Whats broadcasting?\n",
    "> Broadcast variables are read-only shared variables that are cached and available on all nodes in a cluster in-order to access or use by the tasks. Instead of sending this data along with every task, PySpark distributes broadcast variables to the workers using efficient broadcast algorithms to reduce communication costs.\n",
    "\n",
    "When joining, we can use the ```BROADCAST hint``` which  tells Spark to broadcast the smaller DataFrame when joining them with the bigger one. See how to use hints [here](https://spark.apache.org/docs/3.1.1/api/python/reference/api/pyspark.sql.DataFrame.hint.html)."
   ]
  },
  {
   "cell_type": "code",
   "execution_count": null,
   "metadata": {},
   "outputs": [],
   "source": [
    " \n"
   ]
  },
  {
   "cell_type": "code",
   "execution_count": 3,
   "metadata": {},
   "outputs": [
    {
     "data": {
      "text/plain": [
       "['7653770530001754046',\n",
       " '8590010677447961327',\n",
       " '1926154774479987037',\n",
       " '7353925686673190405',\n",
       " '1812788598358233510']"
      ]
     },
     "execution_count": 3,
     "metadata": {},
     "output_type": "execute_result"
    }
   ],
   "source": [
    "path=\"/home/khalid/Desktop/Big_Data/Big_Data/simulated_cdrs/HW2018062913066551.dat.csv\"\n",
    "spark =SparkSession.builder.master(\"local[*]\").appName('khalid').getOrCreate()\n",
    "df= spark.read.csv(\n",
    "    path = path,\n",
    "    header = True,\n",
    "   )\n",
    "p= df.groupBy('user_id').agg(count_distinct('cdr type')).toPandas()\n",
    "pdf = p[p['count(cdr type)']== 2]\n",
    "pdf2 = pdf.sample(5)\n",
    "list(pdf2['user_id'])"
   ]
  },
  {
   "cell_type": "code",
   "execution_count": 2,
   "metadata": {},
   "outputs": [],
   "source": [
    "def sample_users(sdf, min_events, num_users, method, output_csv):\n",
    "    \"\"\"\n",
    "    Sample users with minimum number of events\n",
    "    Arguments:\n",
    "    url -- spark dataframe tot work on\n",
    "    num_users -- number of users to sample\n",
    "    min_events -- minimum number of events\n",
    "    method -- eitheer join based meethod or isin() query\n",
    "    output_csv -- full path to ssave data for sampled users\n",
    "    \"\"\"\n",
    "    \n",
    "    # Use groupBy on appropriate column to get number of events\n",
    "    # per user (~ 1 line) and conveert the resulting dataframe to \n",
    "    # a pandas dataframe\n",
    "    pdf =sdf.groupBy('user_id').agg(count_distinct('cdr type')).toPandas()\n",
    "    \n",
    "    # Keep users with min_events as required\n",
    "    # Also, keep only num_users (~2 lines)\n",
    "    pdf = pdf[pdf['count(cdr type)'] == min_events]\n",
    "    pdf2 = pdf.sample(num_users)\n",
    "    \n",
    "    # =================================min_events==\n",
    "    # RETRIEVE DATA FOR THE SAMPLED USERS\n",
    "    # ===================================\n",
    "    # using the isin() method as follows:\n",
    "    # 1. Get a list of sampled users from pdf2 above\n",
    "    # 2. Use isin() method to sample data\n",
    "    # 3. Save data to CSV file.\n",
    "    # replace pass with your code (~3 lines)\n",
    "    if method == \"isin\":\n",
    "        sampled_list = list(pdf2['user_id'])\n",
    "        samp_dat = sdf.filter(sdf.user_id.isin(sampled_list))\n",
    "        samp_dat.write.csv(output_csv)\n",
    "    elif method == \"join-broadcast\":\n",
    "        # In order to use join to select the data, do the following:\n",
    "        # 1. dataconvert the pandas dataframe to spark\n",
    "        # 2. join the two dataframes making sure you select the correct join type\n",
    "        # this is broadcast join, so use hint as decsribed in docs\n",
    "        # 3. Save the data\n",
    "        # replace path with your code (~3-4 lines)\n",
    "        # If you have issues with conversion from pandas to spark, use a scheme\n",
    "        spark_df = spark.createDataFrame(pdf2)\n",
    "        joinB_df = sdf.join(spark_df.hint('broadcast'),'user_id','leftsemi' )\n",
    "        joinB_df.write.csv(output_csv)\n",
    "    else:\n",
    "        # this is regular join without broadcast\n",
    "        spark_df = spark.createDataFrame(pdf2)\n",
    "        joinR_df = sdf.join(spark_df,sdf.user_id==spark_df.user_id, 'leftsemi')\n",
    "        joinR_df.write.csv(output_csv)"
   ]
  },
  {
   "cell_type": "code",
   "execution_count": 5,
   "metadata": {},
   "outputs": [],
   "source": [
    "# sample_users(sdf=df, min_events=2, num_users=5, method=\"is\", output_csv=\"reg.csv\")"
   ]
  },
  {
   "cell_type": "code",
   "execution_count": 6,
   "metadata": {},
   "outputs": [],
   "source": [
    "# output_csv = Path(out_pth).joinpath('hello.txt')\n",
    "# output_csv"
   ]
  },
  {
   "cell_type": "code",
   "execution_count": 3,
   "metadata": {},
   "outputs": [],
   "source": [
    "def compare_running_times(input_csv_file, output_dir):\n",
    "    \"\"\"\n",
    "    Run the sample_users funcition above using three\n",
    "    different approaches and report the one with fasest\n",
    "    run time\n",
    "    Arguments:\n",
    "    input_csv_file -- full path to the input CSV file\n",
    "    output_dir --  directory (as a Path object) to save the sampled files\n",
    "    \"\"\"\n",
    "    \n",
    "    # create sparksession object and load the dataframe\n",
    "    spark =SparkSession.builder.master(\"local[*]\").appName('khalid').getOrCreate()\n",
    "    df = spark.read.csv(input_csv_file, header=True)\n",
    "    \n",
    "    methods = ['isin', \"join-broadcast\", 'join']\n",
    "    \n",
    "    # dictionary to hold time taken results\n",
    "    time_taken ={}\n",
    "    \n",
    "    # Loop through the methods and do the following:\n",
    "    # 1. Create \n",
    "    for m in methods:\n",
    "        # Use joinpath() method on output_dir to create outcsv for this method\n",
    "        # the CSV file should have name: sample_method.csv\n",
    "        output_csv = output_dir.joinpath(m+'sample_method.csv')\n",
    "        # use datetime.now() method to records start time\n",
    "        start = datetime.now()\n",
    "        # Call the sample_users() function (~1 line)\n",
    "        sample_users(df, 1, 100, m, str(output_csv))\n",
    "        # Record finish time \n",
    "        end =datetime.now()\n",
    "        \n",
    "        # Calculate duration in minutes\n",
    "        # Use total_seconds() function on the time difference\n",
    "        duration = (end - start).total_seconds()\n",
    "        \n",
    "        # Add the duration to the results dictionary\n",
    "        # with method as key (~1 line)\n",
    "        time_taken[m]= duration/60\n",
    "    \n",
    "    # Get the best and worst running times\n",
    "    # Please use the dictionary to get the maximum and minimun\n",
    "    # values as required\n",
    "    best =sorted(time_taken, key=lambda i: i[1])[0]\n",
    "    worst =sorted(time_taken, key=lambda i: i[1])[-1]\n",
    "    \n",
    "    print('Best approach is {} which took {} minutes'.format(best, int(time_taken[best])))\n",
    "    print('Worst approach is {} which took {} minutes'.format(worst, int(time_taken[worst])))\n",
    "    \n",
    "    spark.stop()"
   ]
  },
  {
   "cell_type": "code",
   "execution_count": 8,
   "metadata": {},
   "outputs": [],
   "source": [
    "# out_pth = \"/home/khalid/Desktop/BDP2/Out_put\"\n",
    "# path =\"/home/khalid/Desktop/Big_Data/Big_Data/simulated_cdrs/HW2018062913026547.dat.csv\"\n",
    "# compare_running_times(path, out_pth)"
   ]
  },
  {
   "cell_type": "code",
   "execution_count": 9,
   "metadata": {},
   "outputs": [
    {
     "name": "stdout",
     "output_type": "stream",
     "text": [
      "Best approach is join-broadcast which took 2 minutes\n",
      "Worst approach is isin which took 3 minutes\n"
     ]
    }
   ],
   "source": [
    "time_taken ={'isin':3, \"join-broadcast\":2, 'join':5}\n",
    "best =sorted(time_taken, key=lambda i: i[1])[0]\n",
    "worst =sorted(time_taken, key=lambda i: i[1])[-1]\n",
    "type(best)\n",
    "print('Best approach is {} which took {} minutes'.format(best, int(time_taken[best])))\n",
    "print('Worst approach is {} which took {} minutes'.format(worst, int(time_taken[worst])))"
   ]
  },
  {
   "cell_type": "markdown",
   "metadata": {},
   "source": [
    "## 2-Data exploration using spark\n",
    "In this part of the asssignment, you will get to perfom basic operations on a spark dataframe such \n",
    "as adding new columns, droping columns and more. Once you have summarized the data and its small enough, \n",
    "you can convert it to a pandas dataframe and do some analysis with pandas. Please complete the functiton below by \n",
    "following the steps below.\n",
    "\n",
    "### 1-Preprocess the data\n",
    "In this step, you will add new columns, drop columns and rename some columns. You will use the ```user defined function (udf)``` to add a date and datetime column to be used later in the analysis. This is because the original ```cdr_datetime``` is a sstring and is not time aware in Python. For this, please read on how to [define and use udf in spark](https://spark.apache.org/docs/3.1.1/api/python/reference/api/pyspark.sql.functions.udf.html#pyspark.sql.functions.udf)\n",
    "\n",
    "### 2-Get number of days\n",
    "One important thing we would like to know is how many days of data do we have. \n",
    "You will use the date column created above to get the number of days. During this process, \n",
    "note that you will be working with spark's ```Row``` data type.\n",
    "\n",
    "### 3-Get a distribution of calls by hour\n",
    "Also important to know is how many calls are made on each hour. To this end, \n",
    "you will use aggregate function to generate this and out the results as a heatmap for easier visualization.\n",
    "### 4-User attributes\n",
    "Finally, you will get one user attribute which is number of calls per day. Once you get this, you report the mean and median number of calls per day for users. "
   ]
  },
  {
   "cell_type": "code",
   "execution_count": 10,
   "metadata": {},
   "outputs": [
    {
     "name": "stdout",
     "output_type": "stream",
     "text": [
      "+------------+--------------+-------------+-------------------+-------------------+\n",
      "|    cdr type|  cdr datetime|call duration|last calling cellid|            user_id|\n",
      "+------------+--------------+-------------+-------------------+-------------------+\n",
      "| MtSMSRecord|20180629130501|         null|               null|3384066821637594455|\n",
      "| MtSMSRecord|20180629130501|         null|               null|7566424924061690786|\n",
      "|MoCallRecord|20180629130443|         null|            14232.0|8679125349265681507|\n",
      "|MtCallRecord|20180629130443|         null|               null|8679125349265681507|\n",
      "|MoCallRecord|20180629130458|         null|            20357.0|4700647867365546975|\n",
      "+------------+--------------+-------------+-------------------+-------------------+\n",
      "only showing top 5 rows\n",
      "\n"
     ]
    }
   ],
   "source": [
    "df.show(5)"
   ]
  },
  {
   "cell_type": "code",
   "execution_count": 11,
   "metadata": {},
   "outputs": [
    {
     "name": "stdout",
     "output_type": "stream",
     "text": [
      "+------------+--------------+-------------+-------------------+-------------------+\n",
      "|    cdr type|  cdr datetime|call duration|last calling cellid|            user_id|\n",
      "+------------+--------------+-------------+-------------------+-------------------+\n",
      "| MtSMSRecord|20180629130501|         null|               null|3384066821637594455|\n",
      "| MtSMSRecord|20180629130501|         null|               null|7566424924061690786|\n",
      "|MoCallRecord|20180629130443|         null|            14232.0|8679125349265681507|\n",
      "|MtCallRecord|20180629130443|         null|               null|8679125349265681507|\n",
      "|MoCallRecord|20180629130458|         null|            20357.0|4700647867365546975|\n",
      "+------------+--------------+-------------+-------------------+-------------------+\n",
      "only showing top 5 rows\n",
      "\n"
     ]
    }
   ],
   "source": [
    "path=\"/home/khalid/Desktop/Big_Data/Big_Data/simulated_cdrs/HW2018062913066551.dat.csv\"\n",
    "df= spark.read.csv(\n",
    "    path = path,\n",
    "    header = True,\n",
    "   )\n",
    "df.show(5)"
   ]
  },
  {
   "cell_type": "code",
   "execution_count": 12,
   "metadata": {},
   "outputs": [
    {
     "name": "stdout",
     "output_type": "stream",
     "text": [
      "+------------+--------------+-------------+-------+-------------------+\n",
      "|    cdr type|  cdr_datetime|call_duration|cell_id|            user_id|\n",
      "+------------+--------------+-------------+-------+-------------------+\n",
      "| MtSMSRecord|20180629130501|         null|   null|3384066821637594455|\n",
      "| MtSMSRecord|20180629130501|         null|   null|7566424924061690786|\n",
      "|MoCallRecord|20180629130443|         null|14232.0|8679125349265681507|\n",
      "|MtCallRecord|20180629130443|         null|   null|8679125349265681507|\n",
      "|MoCallRecord|20180629130458|         null|20357.0|4700647867365546975|\n",
      "+------------+--------------+-------------+-------+-------------------+\n",
      "only showing top 5 rows\n",
      "\n"
     ]
    }
   ],
   "source": [
    "# from functools import reduce\n",
    "# cols= df.columns\n",
    "# print(cols)\n",
    "# newcol= [\"cdr_datetime\",\"cell_id\",\"call_duration\"]\n",
    "# # df1= reduce(lambda n,i:n.withColumnRenamed(i,i.replace(\" \",\"_\").replace(\"last calling cellid\", \"call_duration\")),cols,df)\n",
    "# df1= reduce(lambda n,i:n.withColumnRenamed(cols[i],newcol[i-1]),range(1,len(newcol)+1),df)\n",
    "df1= df.select(\n",
    "    df.columns\n",
    ").withColumnRenamed( \n",
    "    \"cdr datetime\",\"cdr_datetime\"\n",
    ").withColumnRenamed(\n",
    "    \"last calling cellid\",\"cell_id\"\n",
    ").withColumnRenamed(\"call duration\",\"call_duration\")\n",
    "df1.show(5)\n"
   ]
  },
  {
   "cell_type": "code",
   "execution_count": 13,
   "metadata": {},
   "outputs": [
    {
     "name": "stdout",
     "output_type": "stream",
     "text": [
      "+--------------+-------------+-------+-------------------+\n",
      "|  cdr_datetime|call_duration|cell_id|            user_id|\n",
      "+--------------+-------------+-------+-------------------+\n",
      "|20180629130501|         null|   null|3384066821637594455|\n",
      "|20180629130501|         null|   null|7566424924061690786|\n",
      "|20180629130443|         null|14232.0|8679125349265681507|\n",
      "|20180629130443|         null|   null|8679125349265681507|\n",
      "|20180629130458|         null|20357.0|4700647867365546975|\n",
      "|20180629130458|         null|   null|4700647867365546975|\n",
      "|20180629130500|         null|12003.0|7624626017140993702|\n",
      "|20180629130500|         null|   null|7624626017140993702|\n",
      "|20180629130408|         null|20353.0|8363160904912796315|\n",
      "|20180629130501|         null|   null|7566424924061690786|\n",
      "|20180629130501|         null|   null|7566424924061690786|\n",
      "|20180629130443|         null|34062.0|8173164567983722784|\n",
      "|20180629130443|         null|   null|8173164567983722784|\n",
      "|20180629130449|         null|20333.0|5172648745762332153|\n",
      "|20180629130444|         null|22281.0|3594962761513270002|\n",
      "|20180629130449|         null|   null|5172648745762332153|\n",
      "|20180629130430|         null|12176.0|1219521037950523048|\n",
      "|20180629130430|         null|   null|1219521037950523048|\n",
      "|20180629130450|         null|20101.0| 729457828915578038|\n",
      "|20180629130501|         null|   null|2360232289363115828|\n",
      "+--------------+-------------+-------+-------------------+\n",
      "only showing top 20 rows\n",
      "\n"
     ]
    }
   ],
   "source": [
    "df11=df1.drop(\"cdr type\")\n",
    "df11.show()"
   ]
  },
  {
   "cell_type": "code",
   "execution_count": null,
   "metadata": {},
   "outputs": [],
   "source": []
  },
  {
   "cell_type": "code",
   "execution_count": 14,
   "metadata": {},
   "outputs": [
    {
     "name": "stdout",
     "output_type": "stream",
     "text": [
      "+--------------+-------------+-------+-------------------+-------------------+----------+\n",
      "|  cdr_datetime|call_duration|cell_id|            user_id|           datetime|      date|\n",
      "+--------------+-------------+-------+-------------------+-------------------+----------+\n",
      "|20180629130501|         null|   null|3384066821637594455|2018-06-29 13:05:01|2018-06-29|\n",
      "|20180629130501|         null|   null|7566424924061690786|2018-06-29 13:05:01|2018-06-29|\n",
      "|20180629130443|         null|14232.0|8679125349265681507|2018-06-29 13:04:43|2018-06-29|\n",
      "|20180629130443|         null|   null|8679125349265681507|2018-06-29 13:04:43|2018-06-29|\n",
      "|20180629130458|         null|20357.0|4700647867365546975|2018-06-29 13:04:58|2018-06-29|\n",
      "|20180629130458|         null|   null|4700647867365546975|2018-06-29 13:04:58|2018-06-29|\n",
      "|20180629130500|         null|12003.0|7624626017140993702|2018-06-29 13:05:00|2018-06-29|\n",
      "|20180629130500|         null|   null|7624626017140993702|2018-06-29 13:05:00|2018-06-29|\n",
      "|20180629130408|         null|20353.0|8363160904912796315|2018-06-29 13:04:08|2018-06-29|\n",
      "|20180629130501|         null|   null|7566424924061690786|2018-06-29 13:05:01|2018-06-29|\n",
      "|20180629130501|         null|   null|7566424924061690786|2018-06-29 13:05:01|2018-06-29|\n",
      "|20180629130443|         null|34062.0|8173164567983722784|2018-06-29 13:04:43|2018-06-29|\n",
      "|20180629130443|         null|   null|8173164567983722784|2018-06-29 13:04:43|2018-06-29|\n",
      "|20180629130449|         null|20333.0|5172648745762332153|2018-06-29 13:04:49|2018-06-29|\n",
      "|20180629130444|         null|22281.0|3594962761513270002|2018-06-29 13:04:44|2018-06-29|\n",
      "|20180629130449|         null|   null|5172648745762332153|2018-06-29 13:04:49|2018-06-29|\n",
      "|20180629130430|         null|12176.0|1219521037950523048|2018-06-29 13:04:30|2018-06-29|\n",
      "|20180629130430|         null|   null|1219521037950523048|2018-06-29 13:04:30|2018-06-29|\n",
      "|20180629130450|         null|20101.0| 729457828915578038|2018-06-29 13:04:50|2018-06-29|\n",
      "|20180629130501|         null|   null|2360232289363115828|2018-06-29 13:05:01|2018-06-29|\n",
      "+--------------+-------------+-------+-------------------+-------------------+----------+\n",
      "only showing top 20 rows\n",
      "\n"
     ]
    }
   ],
   "source": [
    "date_format = '%Y%m%d%H%M%S'\n",
    "add_datetime = udf(lambda colname:datetime.strptime(colname, date_format),TimestampType())\n",
    "df4 =df11.withColumn(\"datetime\",(add_datetime(df11.cdr_datetime)))\n",
    "add_date = udf(lambda colname:datetime.strptime(colname, date_format),DateType())\n",
    "d2=df4.withColumn(\"date\",(add_date(df4.cdr_datetime)))\n",
    "d2.show()"
   ]
  },
  {
   "cell_type": "code",
   "execution_count": 15,
   "metadata": {},
   "outputs": [
    {
     "data": {
      "text/html": [
       "<div>\n",
       "<style scoped>\n",
       "    .dataframe tbody tr th:only-of-type {\n",
       "        vertical-align: middle;\n",
       "    }\n",
       "\n",
       "    .dataframe tbody tr th {\n",
       "        vertical-align: top;\n",
       "    }\n",
       "\n",
       "    .dataframe thead th {\n",
       "        text-align: right;\n",
       "    }\n",
       "</style>\n",
       "<table border=\"1\" class=\"dataframe\">\n",
       "  <thead>\n",
       "    <tr style=\"text-align: right;\">\n",
       "      <th></th>\n",
       "      <th>date</th>\n",
       "    </tr>\n",
       "  </thead>\n",
       "  <tbody>\n",
       "    <tr>\n",
       "      <th>0</th>\n",
       "      <td>2018-06-29</td>\n",
       "    </tr>\n",
       "  </tbody>\n",
       "</table>\n",
       "</div>"
      ],
      "text/plain": [
       "         date\n",
       "0  2018-06-29"
      ]
     },
     "execution_count": 15,
     "metadata": {},
     "output_type": "execute_result"
    }
   ],
   "source": [
    "pn= d2.select(\"date\").distinct().toPandas()\n",
    "pn"
   ]
  },
  {
   "cell_type": "code",
   "execution_count": 16,
   "metadata": {},
   "outputs": [
    {
     "name": "stdout",
     "output_type": "stream",
     "text": [
      "0\n"
     ]
    }
   ],
   "source": [
    "pn.sort_values(by='date', ascending=False)\n",
    "print (pn.index.min()-pn.index.max())"
   ]
  },
  {
   "cell_type": "code",
   "execution_count": 4,
   "metadata": {
    "tags": []
   },
   "outputs": [],
   "source": [
    "def explore_data_with_spark(sdf=None, output_plot_file=None, output_heatmap=None):\n",
    "    \"\"\"\n",
    "    For quick examination of user activity, lets generate\n",
    "    user call count and do a simple plot.\n",
    "    \"\"\"\n",
    "    # ======================================\n",
    "    # DO QUICK PRE-PROCESSING\n",
    "    # ======================================\n",
    "    # 1.rename the following columns:\n",
    "    # cdr datetime =>cdr_datetime\", \"last calling cellid\"=>\"cell_id\")\n",
    "    # \"call duration\"=>\"call_duration\"\n",
    "\n",
    "    df2 =  sdf.select(sdf.columns).withColumnRenamed(\n",
    "        \"cdr datetime\",\"cdr_datetime\").withColumnRenamed(\n",
    "        \"last calling cellid\",\"cell_id\").withColumnRenamed(\n",
    "        \"call duration\",\"call_duration\")\n",
    "    \n",
    "    # drop cdr type column\n",
    "    df3 = df2.drop(\"cdr type\")\n",
    "    \n",
    "    # 2. add datetime and date by converting from string cdr_datetime\n",
    "    # Use Spark UDF to add date and datetime\n",
    "    date_format = '%Y%m%d%H%M%S'\n",
    "    \n",
    "    # define udf to convert from string to Python datetime\n",
    "    # To convert from string to datetime, use function  datetime.strptime()\n",
    "    # Use spark TimestampType() data type as the output\n",
    "    add_datetime = udf(lambda colname:datetime.strptime(colname, date_format),TimestampType())\n",
    "    \n",
    "    # For date, same instructions ass above but use spark DateType()\n",
    "    add_date = udf(lambda colname:datetime.strptime(colname, date_format),DateType())\n",
    "\n",
    "    # Now add new columns for datetime and 'date' by calling \n",
    "    # the udfs above\n",
    "    df4 =df3.withColumn(\"datetime\",(add_datetime(df3.cdr_datetime)))\n",
    "    df5 =df4.withColumn(\"date\",(add_date(df4.cdr_datetime)))\n",
    "    \n",
    "    # ======================================\n",
    "    # NUMBER OF DAYS IN THE DATA\n",
    "    # ======================================\n",
    "    # Get how many days are in the data by doing the following\n",
    "    # 1. Get unique dates by using distinct() on the spark dataframe\n",
    "    # 2. You can either use collect() on the result or covert to pandas dataframe\n",
    "    # 3. Use sorting to get the first (earliest) and last date \n",
    "    # These instructions assume you are using collect() which wil give us\n",
    "    # spark Row objects. Otherwise, if you end up using pandas, please \n",
    "    # write your \n",
    "    dates_rows =  df5.select(\"date\").distinct().toPandas()\n",
    "    # use sorted() and list comprehension to sort the list of dates\n",
    "    sorted_dates =dates_rows.sort_values(by='date', ascending=True)\n",
    "    diff = sorted_dates.index.max()-sorted_dates.index.min()\n",
    "    # You can use days() function on the diff object\n",
    "    num_days = diff\n",
    "\n",
    "    # ======================================\n",
    "    # AGGREGATE TO GET CALL COUNT BY HOUR\n",
    "    # ======================================\n",
    "    # define  udf to add hour column using atdfWkDay.drop(labels=['wkday'], axis=1, inplace=True)tribute hour\n",
    "    # on a datetime\n",
    "    add_hr = udf(lambda colname:colname.hour)\n",
    "    \n",
    "    # define udf to add weekday as a number \n",
    "    # using python function weekday() on a date object\n",
    "    add_wkday =udf(lambda colname:colname.weekday())\n",
    " \n",
    "    # create dict with nums (starting from 0) as keys and \n",
    "    # days as values\n",
    "    day_dict ={'0':'Sunday','1':'Monday','2':'Tuesday','3':'Wednesday','4':'Thursday','5':'Friday','6':'Saturday'}\n",
    "    # add hour column to the spark dataframe\n",
    "    dfHr = df5.withColumn(\"hour\",add_hr(df5.datetime))\n",
    "    \n",
    "    # add wkday column\n",
    "    dfHr2 = dfHr.withColumn(\"wkday\",(add_wkday(dfHr.date)))\n",
    "    \n",
    "    # group by to get week day and hour to get\n",
    "    # total events by day and hour and convert result\n",
    "    # to pandas dataframe\n",
    "    dfWkDay = dfHr2.groupBy(\"wkday\",\"hour\").count().toPandas()\n",
    "    \n",
    "    # use pandas map() function on column wkday\n",
    "    # to get the wkday name and add that as a column\n",
    "    dfWkDay['wkday_name'] =dfWkDay['wkday'].map(day_dict)\n",
    "    \n",
    "    dfWkDay.drop(labels=['wkday'], axis=1, inplace=True)\n",
    "    dfWkDayPivot = dfWkDay.pivot(index='wkday_name', columns='hour', values='count')\n",
    "    \n",
    "    # Create a heatmap with sns.heatmap() and the dfWkDayPivot dataframe\n",
    "    ax =sn.heatmap(data=dfWkDayPivot)\n",
    "    \n",
    "    # Save output to file (~ 1 line)\n",
    "    plt.savefig(output_heatmap)\n",
    "    \n",
    "    # ==============================================\n",
    "    # GET USER ATTRIBUTES: CALLS PER DAY\n",
    "    # ============================================\n",
    "    # group user and count number of events\n",
    "    # convert resulting spark dataframe to pandasFalse\n",
    "    dfGroup =df5.groupBy(\"user_id\").count().toPandas()\n",
    "\n",
    "    # create a distribution plot of user call count using\n",
    "    # seaborn\n",
    "    axl = sns.displot(dfGroup['count'])\n",
    "    # save plot as png file(~ 1 line)\n",
    "    plt.savefig(output_plot_file)\n",
    "    \n",
    "    # report average number calls per day for each user\n",
    "    # by grouping by user_id and date\n",
    "    # and convert resullt to pandas dataframe\n",
    "    dfGroupDay =df5.groupBy(\"user_id\",\"date\").count().toPandas()\n",
    "    \n",
    "    \n",
    "    # get mean and median days based on\n",
    "    # grouped dataframe above\n",
    "    mean =dfGroupDay.mean()\n",
    "    median =dfGroupDay.median() \n",
    "\n",
    "    return mean, median, num_days"
   ]
  },
  {
   "cell_type": "code",
   "execution_count": null,
   "metadata": {},
   "outputs": [],
   "source": []
  },
  {
   "cell_type": "code",
   "execution_count": 5,
   "metadata": {},
   "outputs": [],
   "source": [
    "def check_sampled_csv(output_from_sample_func, num_users, min_events):\n",
    "    \"\"\"\n",
    "    Check if the output from sample function has correct number of users\n",
    "    \"\"\"\n",
    "    \n",
    "    # ===================================================\n",
    "    #       MARKING COMMENT \n",
    "    # If the two tests are passed, student gets 6 points\n",
    "    # If not, subtract accordingly\n",
    "    # ===================================================\n",
    "    \n",
    "    df = pd.read_csv(output_from_sample_func)\n",
    "    df_users = df.groupby('user_id').count().reset_index()[['user_id', 'count']]\n",
    "    \n",
    "    try:\n",
    "        assert num_users == df_users.shape[0]\n",
    "        print('Passed first test, give 3 points')\n",
    "    except:\n",
    "        print('Number of users doesnt match with expected from sample, subtract 3 points')\n",
    "    \n",
    "    try:\n",
    "        min_events_from_df = df_users['count'].min()\n",
    "        assert min_events_from_df >= min_events\n",
    "        print('Passed second test, give 3 points')\n",
    "    except:\n",
    "        print('Minimum number of events doesnt match, subtract 3 points')"
   ]
  },
  {
   "cell_type": "code",
   "execution_count": 6,
   "metadata": {},
   "outputs": [],
   "source": [
    "#outd = Path(\"../DATA/simulated_cdrs_sample/\")\n",
    "outd = Path(\"/home/joseph/Dropbox/Tutors2022-2023/AIMS_Assignment2022-2023/Review Phase/BDP/Assignment2/aaMARKING_BDP/simulated_cdrs_sample/\")\n",
    "\n",
    "cnt = 1\n",
    "#for file in Path(\"../DATA/simulated_cdrs/\").iterdir():\n",
    "for file in Path(\"/home/joseph/Dropbox/Tutors2022-2023/AIMS_Assignment2022-2023/Review Phase/BDP/Assignment2/aaMARKING_BDP/simulated_cdrs/\").iterdir():\n",
    "    if file.suffix == \".csv\":\n",
    "        shutil.copy(file, outd.joinpath(file.parts[-1]))\n",
    "        cnt += 1\n",
    "        if cnt == 5000:\n",
    "            break"
   ]
  },
  {
   "cell_type": "code",
   "execution_count": 7,
   "metadata": {},
   "outputs": [],
   "source": [
    "# Please change paths to the one where you put the simulated_cdrs_sample folder \n",
    "# Also, create the out_cdr_analysis folder\n",
    "# input_cdrs = \"../DATA/simulated_cdrs_sample/\"\n",
    "# output_dir = Path( \"../DATA/out_cdr_analysis/\")\n",
    "input_cdrs = \"/home/joseph/Dropbox/Tutors2022-2023/AIMS_Assignment2022-2023/Review Phase/BDP/Assignment2/aaMARKING_BDP/simulated_cdrs_sample/\"\n",
    "output_dir = Path( \"/home/joseph/Dropbox/Tutors2022-2023/AIMS_Assignment2022-2023/Review Phase/BDP/Assignment2/aaMARKING_BDP/out_cdr_analysis/\")\n",
    "\n",
    "\n",
    "## Parameters for testing\n",
    "NUM_USERS = 3000\n",
    "MIN_EVENTS = 100"
   ]
  },
  {
   "cell_type": "code",
   "execution_count": 8,
   "metadata": {},
   "outputs": [],
   "source": [
    "# create spark session\n",
    "spark = SparkSession.builder \\\n",
    "    .master(\"local[*]\") \\\n",
    "    .appName(\"Hello Spark\") \\\n",
    "    .getOrCreate()\n",
    "\n",
    "# please use the sample users from previous function to reduce computation time\n",
    "# you can start experimenting witth very few user data\n",
    "# load a spark dataframe\n",
    "df = spark.read.csv(input_cdrs, header=True).repartition(10)"
   ]
  },
  {
   "cell_type": "code",
   "execution_count": 9,
   "metadata": {},
   "outputs": [
    {
     "ename": "ValueError",
     "evalue": "a must be greater than 0 unless no samples are taken",
     "output_type": "error",
     "traceback": [
      "\u001b[0;31m---------------------------------------------------------------------------\u001b[0m",
      "\u001b[0;31mValueError\u001b[0m                                Traceback (most recent call last)",
      "\u001b[0;32m<ipython-input-9-2bd2611944dd>\u001b[0m in \u001b[0;36m<module>\u001b[0;34m\u001b[0m\n\u001b[1;32m      5\u001b[0m \u001b[0;31m# as spark doesnt replace directories\u001b[0m\u001b[0;34m\u001b[0m\u001b[0;34m\u001b[0m\u001b[0;34m\u001b[0m\u001b[0m\n\u001b[1;32m      6\u001b[0m \u001b[0moutput_csv\u001b[0m \u001b[0;34m=\u001b[0m \u001b[0moutput_dir\u001b[0m\u001b[0;34m.\u001b[0m\u001b[0mjoinpath\u001b[0m\u001b[0;34m(\u001b[0m\u001b[0;34m'sample_broadcast_join.csv'\u001b[0m\u001b[0;34m)\u001b[0m\u001b[0;34m\u001b[0m\u001b[0;34m\u001b[0m\u001b[0m\n\u001b[0;32m----> 7\u001b[0;31m sample_users(sdf=df, min_events=MIN_EVENTS, num_users=NUM_USERS, method=\"join-broadcast\", \n\u001b[0m\u001b[1;32m      8\u001b[0m              output_csv=str(output_csv))\n\u001b[1;32m      9\u001b[0m \u001b[0mend\u001b[0m \u001b[0;34m=\u001b[0m \u001b[0mdatetime\u001b[0m\u001b[0;34m.\u001b[0m\u001b[0mnow\u001b[0m\u001b[0;34m(\u001b[0m\u001b[0;34m)\u001b[0m\u001b[0;34m\u001b[0m\u001b[0;34m\u001b[0m\u001b[0m\n",
      "\u001b[0;32m<ipython-input-2-947319e0f3a9>\u001b[0m in \u001b[0;36msample_users\u001b[0;34m(sdf, min_events, num_users, method, output_csv)\u001b[0m\n\u001b[1;32m     18\u001b[0m     \u001b[0;31m# Also, keep only num_users (~2 lines)\u001b[0m\u001b[0;34m\u001b[0m\u001b[0;34m\u001b[0m\u001b[0;34m\u001b[0m\u001b[0m\n\u001b[1;32m     19\u001b[0m     \u001b[0mpdf\u001b[0m \u001b[0;34m=\u001b[0m \u001b[0mpdf\u001b[0m\u001b[0;34m[\u001b[0m\u001b[0mpdf\u001b[0m\u001b[0;34m[\u001b[0m\u001b[0;34m'count(cdr type)'\u001b[0m\u001b[0;34m]\u001b[0m \u001b[0;34m==\u001b[0m \u001b[0mmin_events\u001b[0m\u001b[0;34m]\u001b[0m\u001b[0;34m\u001b[0m\u001b[0;34m\u001b[0m\u001b[0m\n\u001b[0;32m---> 20\u001b[0;31m     \u001b[0mpdf2\u001b[0m \u001b[0;34m=\u001b[0m \u001b[0mpdf\u001b[0m\u001b[0;34m.\u001b[0m\u001b[0msample\u001b[0m\u001b[0;34m(\u001b[0m\u001b[0mnum_users\u001b[0m\u001b[0;34m)\u001b[0m\u001b[0;34m\u001b[0m\u001b[0;34m\u001b[0m\u001b[0m\n\u001b[0m\u001b[1;32m     21\u001b[0m \u001b[0;34m\u001b[0m\u001b[0m\n\u001b[1;32m     22\u001b[0m     \u001b[0;31m# =================================min_events==\u001b[0m\u001b[0;34m\u001b[0m\u001b[0;34m\u001b[0m\u001b[0;34m\u001b[0m\u001b[0m\n",
      "\u001b[0;32m/usr/lib/python3/dist-packages/pandas/core/generic.py\u001b[0m in \u001b[0;36msample\u001b[0;34m(self, n, frac, replace, weights, random_state, axis)\u001b[0m\n\u001b[1;32m   4993\u001b[0m             )\n\u001b[1;32m   4994\u001b[0m \u001b[0;34m\u001b[0m\u001b[0m\n\u001b[0;32m-> 4995\u001b[0;31m         \u001b[0mlocs\u001b[0m \u001b[0;34m=\u001b[0m \u001b[0mrs\u001b[0m\u001b[0;34m.\u001b[0m\u001b[0mchoice\u001b[0m\u001b[0;34m(\u001b[0m\u001b[0maxis_length\u001b[0m\u001b[0;34m,\u001b[0m \u001b[0msize\u001b[0m\u001b[0;34m=\u001b[0m\u001b[0mn\u001b[0m\u001b[0;34m,\u001b[0m \u001b[0mreplace\u001b[0m\u001b[0;34m=\u001b[0m\u001b[0mreplace\u001b[0m\u001b[0;34m,\u001b[0m \u001b[0mp\u001b[0m\u001b[0;34m=\u001b[0m\u001b[0mweights\u001b[0m\u001b[0;34m)\u001b[0m\u001b[0;34m\u001b[0m\u001b[0;34m\u001b[0m\u001b[0m\n\u001b[0m\u001b[1;32m   4996\u001b[0m         \u001b[0;32mreturn\u001b[0m \u001b[0mself\u001b[0m\u001b[0;34m.\u001b[0m\u001b[0mtake\u001b[0m\u001b[0;34m(\u001b[0m\u001b[0mlocs\u001b[0m\u001b[0;34m,\u001b[0m \u001b[0maxis\u001b[0m\u001b[0;34m=\u001b[0m\u001b[0maxis\u001b[0m\u001b[0;34m)\u001b[0m\u001b[0;34m\u001b[0m\u001b[0;34m\u001b[0m\u001b[0m\n\u001b[1;32m   4997\u001b[0m \u001b[0;34m\u001b[0m\u001b[0m\n",
      "\u001b[0;32mmtrand.pyx\u001b[0m in \u001b[0;36mnumpy.random.mtrand.RandomState.choice\u001b[0;34m()\u001b[0m\n",
      "\u001b[0;31mValueError\u001b[0m: a must be greater than 0 unless no samples are taken"
     ]
    }
   ],
   "source": [
    "# Run  sample_users() with method = join-broadcast\n",
    "# Give 3 points if it runs successfully and 0 if it doesnt\n",
    "start = datetime.now()\n",
    "# you need to be deleting the output folder/file every time you re-run this \n",
    "# as spark doesnt replace directories\n",
    "output_csv = output_dir.joinpath('sample_broadcast_join.csv')\n",
    "sample_users(sdf=df, min_events=MIN_EVENTS, num_users=NUM_USERS, method=\"join-broadcast\", \n",
    "             output_csv=str(output_csv))\n",
    "end = datetime.now()\n",
    "duration = (end - start).total_seconds()/60\n",
    "print('Time taken for join-broadcast: {} minutes'.format(int(duration)))"
   ]
  },
  {
   "cell_type": "code",
   "execution_count": null,
   "metadata": {},
   "outputs": [],
   "source": []
  },
  {
   "cell_type": "code",
   "execution_count": null,
   "metadata": {},
   "outputs": [],
   "source": []
  },
  {
   "cell_type": "code",
   "execution_count": null,
   "metadata": {},
   "outputs": [],
   "source": []
  },
  {
   "cell_type": "code",
   "execution_count": 19,
   "metadata": {},
   "outputs": [],
   "source": [
    "# import seaborn as sn\n",
    "# import matplotlib.pyplot as plt\n",
    "# explore_data_with_spark(sdf=df, output_plot_file=out_distplot, output_heatmap=out_heatmap)"
   ]
  },
  {
   "cell_type": "code",
   "execution_count": null,
   "metadata": {},
   "outputs": [],
   "source": [
    "# d2.show(5)"
   ]
  },
  {
   "cell_type": "code",
   "execution_count": 20,
   "metadata": {},
   "outputs": [
    {
     "name": "stdout",
     "output_type": "stream",
     "text": [
      "+--------------+-------------+-------+-------------------+-------------------+----------+----+----+\n",
      "|  cdr_datetime|call_duration|cell_id|            user_id|           datetime|      date|hour|week|\n",
      "+--------------+-------------+-------+-------------------+-------------------+----------+----+----+\n",
      "|20180629130501|         null|   null|3384066821637594455|2018-06-29 13:05:01|2018-06-29|  13|   4|\n",
      "|20180629130501|         null|   null|7566424924061690786|2018-06-29 13:05:01|2018-06-29|  13|   4|\n",
      "|20180629130443|         null|14232.0|8679125349265681507|2018-06-29 13:04:43|2018-06-29|  13|   4|\n",
      "|20180629130443|         null|   null|8679125349265681507|2018-06-29 13:04:43|2018-06-29|  13|   4|\n",
      "|20180629130458|         null|20357.0|4700647867365546975|2018-06-29 13:04:58|2018-06-29|  13|   4|\n",
      "|20180629130458|         null|   null|4700647867365546975|2018-06-29 13:04:58|2018-06-29|  13|   4|\n",
      "|20180629130500|         null|12003.0|7624626017140993702|2018-06-29 13:05:00|2018-06-29|  13|   4|\n",
      "|20180629130500|         null|   null|7624626017140993702|2018-06-29 13:05:00|2018-06-29|  13|   4|\n",
      "|20180629130408|         null|20353.0|8363160904912796315|2018-06-29 13:04:08|2018-06-29|  13|   4|\n",
      "|20180629130501|         null|   null|7566424924061690786|2018-06-29 13:05:01|2018-06-29|  13|   4|\n",
      "|20180629130501|         null|   null|7566424924061690786|2018-06-29 13:05:01|2018-06-29|  13|   4|\n",
      "|20180629130443|         null|34062.0|8173164567983722784|2018-06-29 13:04:43|2018-06-29|  13|   4|\n",
      "|20180629130443|         null|   null|8173164567983722784|2018-06-29 13:04:43|2018-06-29|  13|   4|\n",
      "|20180629130449|         null|20333.0|5172648745762332153|2018-06-29 13:04:49|2018-06-29|  13|   4|\n",
      "|20180629130444|         null|22281.0|3594962761513270002|2018-06-29 13:04:44|2018-06-29|  13|   4|\n",
      "|20180629130449|         null|   null|5172648745762332153|2018-06-29 13:04:49|2018-06-29|  13|   4|\n",
      "|20180629130430|         null|12176.0|1219521037950523048|2018-06-29 13:04:30|2018-06-29|  13|   4|\n",
      "|20180629130430|         null|   null|1219521037950523048|2018-06-29 13:04:30|2018-06-29|  13|   4|\n",
      "|20180629130450|         null|20101.0| 729457828915578038|2018-06-29 13:04:50|2018-06-29|  13|   4|\n",
      "|20180629130501|         null|   null|2360232289363115828|2018-06-29 13:05:01|2018-06-29|  13|   4|\n",
      "+--------------+-------------+-------+-------------------+-------------------+----------+----+----+\n",
      "only showing top 20 rows\n",
      "\n"
     ]
    }
   ],
   "source": [
    "# add_hr = udf(lambda colname:colname.hour)\n",
    "# dh= d2.withColumn(\"hour\",add_hr(d2.datetime))\n",
    "# add_wkday =udf(lambda colname:colname.weekday())\n",
    "# dw=dh.withColumn(\"week\",(add_wkday(dh.date)))\n",
    "# dw.show()"
   ]
  },
  {
   "cell_type": "code",
   "execution_count": 21,
   "metadata": {},
   "outputs": [
    {
     "name": "stdout",
     "output_type": "stream",
     "text": [
      "  week hour  count\n",
      "0    4   12    107\n",
      "1    4   13  15351\n"
     ]
    }
   ],
   "source": [
    "# dfWkD = dw.groupBy(\"week\",\"hour\").count().toPandas()\n",
    "# print(dfWkD)\n",
    "# day_dict ={'0':'Sunday','1':'Monday','2':'Tuesday','3':'Wednesday','4':'Thursday','5':'Friday','6':'Saturday'}\n"
   ]
  },
  {
   "cell_type": "code",
   "execution_count": 22,
   "metadata": {},
   "outputs": [
    {
     "name": "stdout",
     "output_type": "stream",
     "text": [
      "  week hour  count  day_name\n",
      "0    4   12    107  Thursday\n",
      "1    4   13  15351  Thursday\n"
     ]
    }
   ],
   "source": [
    "# dfWkD[\"day_name\"] = dfWkD['week'].map(day_dict)\n",
    "# print(dfWkD)"
   ]
  },
  {
   "cell_type": "code",
   "execution_count": null,
   "metadata": {},
   "outputs": [],
   "source": []
  },
  {
   "cell_type": "markdown",
   "metadata": {},
   "source": [
    "## 3-Put it all together.\n",
    "From the ```sample_users()``` function, you should have sample data for subset of users \n",
    "which you can use with the ```explore_data_with_spark()``` function. Note that you can make the number of users very small at the beginning ass you test the function."
   ]
  },
  {
   "cell_type": "code",
   "execution_count": 29,
   "metadata": {},
   "outputs": [
    {
     "name": "stdout",
     "output_type": "stream",
     "text": [
      "Best approach is join-broadcast which took 0 minutes\n",
      "Worst approach is isin which took 0 minutes\n"
     ]
    },
    {
     "data": {
      "image/png": "[encoded data removed]",
      "text/plain": [
       "<Figure size 432x288 with 2 Axes>"
      ]
     },
     "metadata": {
      "needs_background": "light"
     },
     "output_type": "display_data"
    },
    {
     "data": {
      "image/png": "[encoded data removed]",
      "text/plain": [
       "<Figure size 360x360 with 1 Axes>"
      ]
     },
     "metadata": {
      "needs_background": "light"
     },
     "output_type": "display_data"
    }
   ],
   "source": [
    "# ==============================\n",
    "# SAMPLING USER DATA\n",
    "# ==============================\n",
    "# setup input file and output directory\n",
    "path=\"/home/khalid/Desktop/Big_Data/Big_Data/simulated_cdrs/HW2018062913066551.dat.csv\"\n",
    "input_cdrs = \"/home/khalid/Desktop/Big_Data/Big_Data/simulated_cdr/\"\n",
    "\n",
    "# Convert the output dir str into a Path object\n",
    "# using Path() function\n",
    "outdir = Path(\"/home/khalid/Desktop/BDP2/Out_put\")\n",
    "\n",
    "# Call the compare_running_times() function (~ 1 line)\n",
    "compare_running_times(input_csv_file=path, output_dir=outdir)\n",
    "\n",
    "# ==============================\n",
    "# DATA EXPLORATION\n",
    "# ==============================\n",
    "# create spark session\n",
    "spark =SparkSession.builder.master(\"local[*]\").appName('khalid').getOrCreate()\n",
    "\n",
    "# please use the sample users from previous function to reduce computation time\n",
    "# you can start experimenting witth very few user data\n",
    "# load a spark dataframe\n",
    "df= spark.read.csv(path = path,header = True)\n",
    "\n",
    "# provide full paths to save distplot and heatmap\n",
    "out_heatmap = '/home/khalid/Desktop/BDP2/Out_put/heatmap.png'\n",
    "out_distplot ='/home/khalid/Desktop/BDP2/Out_put/distplot.png'\n",
    "\n",
    "# Call the explore_data_with_spark() function\n",
    "mean, median, num_days =explore_data_with_spark(sdf=df, output_plot_file=out_distplot, output_heatmap=out_heatmap)"
   ]
  },
  {
   "cell_type": "markdown",
   "metadata": {},
   "source": [
    "### observation \n",
    "The function  ```compare_running_times(input_csv_file output_dir=)``` runs ```once``` on a ```csv``` file and it will create 3-other csvs. it then return an error whem it is aplied on the same `csv`  "
   ]
  },
  {
   "cell_type": "markdown",
   "metadata": {},
   "source": [
    "### Question based on ```sample_users() function```\n",
    "1. Why are we sampling the data the way we are doing. Why can't we just randomly sample \n",
    "from the input dataframe ```sdf``` without worrying about the user id's and grouping users?\n",
    "2. What other spark function(s) (on a dataframe) could we have explored to achieve the same goal?"
   ]
  },
  {
   "cell_type": "markdown",
   "metadata": {},
   "source": [
    "## Congratulations on completing this part of assignment!\n",
    "Here some notes on how the assingment will be marked. Full marks will be \n",
    "achieved based on two main criteria:\n",
    "- Code is able to run and saves all the outputs as required\n",
    "- The saved outputs are as expected: heatmap and distribution plot\n",
    "- The returned values for ```mean, median, num_days``` are accurate\n",
    "\n",
    "Also, please answer the question above in the same below the question. It will be marked."
   ]
  },
  {
   "cell_type": "code",
   "execution_count": null,
   "metadata": {},
   "outputs": [],
   "source": []
  }
 ],
 "metadata": {
  "kernelspec": {
   "display_name": "Python 3",
   "language": "python",
   "name": "python3"
  },
  "language_info": {
   "codemirror_mode": {
    "name": "ipython",
    "version": 3
   },
   "file_extension": ".py",
   "mimetype": "text/x-python",
   "name": "python",
   "nbconvert_exporter": "python",
   "pygments_lexer": "ipython3",
   "version": "3.7.6"
  }
 },
 "nbformat": 4,
 "nbformat_minor": 5
}
